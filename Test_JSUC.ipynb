{
  "nbformat": 4,
  "nbformat_minor": 0,
  "metadata": {
    "colab": {
      "name": "Test_JSUC.ipynb",
      "provenance": [],
      "collapsed_sections": []
    },
    "kernelspec": {
      "name": "python3",
      "display_name": "Python 3"
    },
    "language_info": {
      "name": "python"
    }
  },
  "cells": [
    {
      "cell_type": "code",
      "execution_count": 45,
      "metadata": {
        "colab": {
          "base_uri": "https://localhost:8080/"
        },
        "id": "3BTy_BqwJB11",
        "outputId": "07dbf666-7ba5-4cb2-e9ca-8e340e79672e"
      },
      "outputs": [
        {
          "output_type": "stream",
          "name": "stdout",
          "text": [
            "12\n",
            "1,9,5,0,20,-4,12,16,7\n",
            "[[-4, 16], [0, 12], [5, 7]]\n"
          ]
        }
      ],
      "source": [
        "import numpy as np\n",
        "\n",
        "num=input(); # Objetive number\n",
        "vec=input(); # Vector of numbers to process\n",
        "\n",
        "def sumaNumeros(numero,vector):\n",
        "   vector=vector.split(\",\") #\n",
        "   vector = np.array(list(map(int,vector)))\n",
        "   vector.sort()\n",
        "   List =[];\n",
        "   for i in vector:\n",
        "      if i<0: #NEGATIVE VECTOR NUM\n",
        "        j=-1*(i-int(numero))\n",
        "        if np.array(np.where(vector==j)).size>0 and int(numero)>0: #Positve objetive number\n",
        "          List.append([i,j])\n",
        "        elif(np.array(np.where(vector==j)).size>0 and i<j): # Negative objetive number\n",
        "          List.append([i,j])\n",
        "      else: #POSITIVE VECTOR NUM\n",
        "        j=(int(numero)-i)\n",
        "        if np.array(np.where(vector==j)).size>0 and i<j: # Positive and Negative objetive number\n",
        "          List.append([i,j])\n",
        "   return List   \n",
        "\n",
        "print(sumaNumeros(num,vec))"
      ]
    },
    {
      "cell_type": "code",
      "source": [
        "import unittest\n",
        "\n",
        "\n",
        "class TestSumaNumeros(unittest.TestCase):\n",
        "    def test_POSITIVE(self):\n",
        "        actual = sumaNumeros(12,'1,9,5,0,20,-4,12,16,7')\n",
        "        expected = [[-4, 16], [0, 12], [5, 7]]\n",
        "        self.assertEqual(actual, expected)\n",
        "    def test_CASE_0(self):\n",
        "        actual = sumaNumeros(0,'-1,1,-5,5,0,12,6,9,7')\n",
        "        expected = [[-5, 5], [-1, 1]]\n",
        "        self.assertEqual(actual, expected)\n",
        "    def test_NEGATIVE(self):\n",
        "        actual = sumaNumeros(-10,'-20,10,-6,-4,5,3,7,-2,-8')\n",
        "        expected = [[-20, 10], [-8, -2], [-6, -4]]\n",
        "        self.assertEqual(actual, expected)\n",
        "    def test_NEGATIVE_fail(self):\n",
        "        actual = sumaNumeros(-10,'-20,10,-6,-4,5,3,7,-2,-8')\n",
        "        expected = [[-20, 10], [-6, -4]]\n",
        "        self.assertEqual(actual, expected)"
      ],
      "metadata": {
        "id": "IA0R7ZG1KOz3"
      },
      "execution_count": 48,
      "outputs": []
    },
    {
      "cell_type": "code",
      "source": [
        "unittest.main(argv=[''], verbosity=2, exit=False)"
      ],
      "metadata": {
        "colab": {
          "base_uri": "https://localhost:8080/"
        },
        "id": "ti77ctRpro9p",
        "outputId": "717e7c50-effa-484a-f402-8865d59e65dd"
      },
      "execution_count": 49,
      "outputs": [
        {
          "output_type": "stream",
          "name": "stderr",
          "text": [
            "test_CASE_0 (__main__.TestSumaNumeros) ... ok\n",
            "test_NEGATIVE (__main__.TestSumaNumeros) ... ok\n",
            "test_NEGATIVE_fail (__main__.TestSumaNumeros) ... FAIL\n",
            "test_POSITIVE (__main__.TestSumaNumeros) ... ok\n",
            "\n",
            "======================================================================\n",
            "FAIL: test_NEGATIVE_fail (__main__.TestSumaNumeros)\n",
            "----------------------------------------------------------------------\n",
            "Traceback (most recent call last):\n",
            "  File \"<ipython-input-48-331164a9787c>\", line 20, in test_NEGATIVE_fail\n",
            "    self.assertEqual(actual, expected)\n",
            "AssertionError: Lists differ: [[-20, 10], [-8, -2], [-6, -4]] != [[-20, 10], [-6, -4]]\n",
            "\n",
            "First differing element 1:\n",
            "[-8, -2]\n",
            "[-6, -4]\n",
            "\n",
            "First list contains 1 additional elements.\n",
            "First extra element 2:\n",
            "[-6, -4]\n",
            "\n",
            "- [[-20, 10], [-8, -2], [-6, -4]]\n",
            "?             ----------\n",
            "\n",
            "+ [[-20, 10], [-6, -4]]\n",
            "\n",
            "----------------------------------------------------------------------\n",
            "Ran 4 tests in 0.016s\n",
            "\n",
            "FAILED (failures=1)\n"
          ]
        },
        {
          "output_type": "execute_result",
          "data": {
            "text/plain": [
              "<unittest.main.TestProgram at 0x7f42514eaf50>"
            ]
          },
          "metadata": {},
          "execution_count": 49
        }
      ]
    },
    {
      "cell_type": "code",
      "source": [
        ""
      ],
      "metadata": {
        "id": "obn62NQarpbh"
      },
      "execution_count": null,
      "outputs": []
    }
  ]
}